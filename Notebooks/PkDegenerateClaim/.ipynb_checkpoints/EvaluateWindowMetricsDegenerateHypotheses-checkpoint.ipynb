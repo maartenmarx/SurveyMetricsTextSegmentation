{
 "cells": [
  {
   "cell_type": "markdown",
   "id": "0042af58",
   "metadata": {},
   "source": [
    "\n",
    "\n",
    "# Test this claim\n",
    "\n",
    "\n",
    "\n",
    "## $P_k$ and the degenerate systems claim\n",
    "\n",
    "The metric $P_k$ from [@beef_stat99] is a simpler version from the metric $PD$ by the same authors [refneeded]. $PD$ is is the probability that two sentences drawn randomly from the corpus are correctly identified (as belonging to the same document or to different documents). The much easier to implement version $P_k$ is described by  Pevzner and Hearst [@pevz_grit02] as follows: \"$P_k$ is calculated by setting $k$ to half of the average true segment size and then computing penalties via a moving window of length $k$. At each location, the algorithm determines whether the two ends of the probe are in the same or different segments in the reference segmentation and increases a counter if the algorithm's segmentation disagrees. The resulting count is scaled between 0 and 1 by dividing by the number of measurements taken\". \n",
    "\n",
    "$PD$ has a clear intuitive and mathematically sound meaning, but is hard to compute. The easy to implement  $P_k$ is also easily understood, but it is not immediate that it is a natural metric for sementation problems. Indeed the 5th problem Pevzner and Hearst indicate for $P_k$ ---and the only one that is not solved by their *WindowDiff* repair--- is that it is not clear what the scores mean [@pevz_grit02]. \n",
    "But [@beef_stat99] contains another justification for $P_k$: \n",
    "\n",
    "> It turns out empirically, and can be shown analytically (under strong assumptions), that if the window k is chosen to be half the average reference segment length (in words), then all of the major “degenerate” algorithms—hypothesizing boundaries everywhere, uniformly, randomly, and not at all—have nearly the same low score of Pk ≡ PDk ≈ 1/2 (Figure 12). With this justification, we use the error metric Pk\n",
    "in our quantitative analysis.\n",
    "\n",
    "\n",
    "We will now  test whether the emperical part of this claim holds on a large PSS dataset. We test it not just for $P_k$ but also for the later suggested improvements. We answer the following questions:\n",
    " \n",
    "1.   Does the claim about the degenerate segmenters all scoring roughly  $P_k=.5$ on real world datasets also hold for page segmentation datasets, when the items are much coarser (i.e., pages instead of words)?\n",
    "2.    Does the same hold for suggested improvements of $P_k$, in particular WindowDiff and WinPR?\n",
    "3.   What is the influence of the value of $k$ on the claim?\n",
    "4.   What is the influence of the padding improvement suggested by [Lamprier (2008)].\n",
    "<!-- 5. <strike>What is the influence of not counting the first page of a stream as a boundary? This sounds reasonable as the first page is always a boundary, so why to give an segmenter credit for having that correct.</strike>  * Hardly any influence, except on all boundaries, whose error goes up.   --> \n",
    "\n",
    "We answer the questions using the WooIR $D1$ dataset  from [@heus_wooi23] which contains 333 streams with in total 31.293 pages and 134.460 pages. We consider 5 \"degenerate\" non-learned baselines: every page is a cluster (all), the whole stream is one cluster (none), two uniformly spaced clusterings, based on the mean and median document length in the stream, respectively (the last cluster may be shorter), and a random baseline.\n",
    "The random prediction is created as follows: given the stream length, first randomly determine the number of documents in the stream, and then, making sure the stream is filled correctly, randomly assign a  length to each document. All these \"degenerate\" systems are in fact rule based baselines whose rules rely only on priors measured at the level of the corpus. \n",
    "\n",
    "The effect of the padding suggested by Lamprier et.al [@lamp_eval08] was absent for all 5 baselines except random, for which the difference in mean scores was at most $.008$ (for mean precision). Because the  padding makes intuitive sense, we do all experiments with this so-called Lamprier padding.\n",
    "\n",
    "For the first question, Tabel 1 contains the results for $P_k$. Figure 1 shows the corresponding population density plots for the 333 streams. On this dataset, the claim only holds for the random system and the system which makes every page a seperate cluster. The mean system is already a strong baseline with  $P_k=.39$. Recall that $P_k$ is an error score, so lower is better. \n",
    "\n",
    "\n",
    "**Table 1: Mean $P_k$ per stream (N=333), for the 5 degenerate segmentation methods.**\n",
    "\n",
    "|        |   mean |   std |\n",
    "|:-------|-------:|------:|\n",
    "| all    |   0.49 |  0.15 |\n",
    "| none   |   0.42 |  0.2  |\n",
    "| median |   0.42 |  0.21 |\n",
    "| mean   |   0.39 |  0.17 |\n",
    "| random |   0.49 |  0.16 |\n",
    "\n",
    "**Figure 1: Population density plots for  $P_k$ per stream (N=333), for the 5 degenerate segmentation methods.**\n",
    "![](Pk_experiment.png)\n",
    "\n",
    "The answer to the second question is given in Table 2 and Figure 2. Note that WinPR is an F1 measure, so higher is better, and WindowDiff is an error measure as $P_k$. For both measures, the means are spread  much more over the five degenerates than for $P_k$, and are even further removed from the desired \"middle\" error value. So, we can conclude that these two metrics repair certain shortcomings of $P_k$, but in doing so seem to destroy the justification for using $P_k$.\n",
    "\n",
    "\n",
    "**Table 2: Mean $P_k$, WinPR and WindowDiff per stream (N=333), for the 5 degenerate segmentation methods.**\n",
    "\n",
    "\n",
    "|        |   Pk |   WinPR |   WindowDiff |\n",
    "|:-------|-----:|--------:|-------------:|\n",
    "| all    | 0.49 |    0.4  |         0.88 |\n",
    "| none   | 0.42 |    0.22 |         0.43 |\n",
    "| median | 0.42 |    0.62 |         0.52 |\n",
    "| mean   | 0.39 |    0.59 |         0.45 |\n",
    "| random | 0.49 |    0.44 |         0.67 |\n",
    "\n",
    "**Figure 2: Population density plots for  WinPR and WindowDiff per stream (N=333), for the 5 degenerate segmentation methods.**\n",
    "![](WindowDiffAndWinPR_experiment.png)\n",
    "\n",
    "To end,  we look at the influence of the definition of the hyperparameter $k$, the size of the window, on the claim. This parameter is suggested to be set at half the mean cluster size of a sample. So in our case, half of the mean document size in a stream. \n",
    "Figure 3 shows the effect of widening the window, and we see that for all degenerates (except no cluster), the mean $P_k$ goes down when we use a wider window. Several papers mention that $k$ is a tuneable hyperparameter. But this experiment shows that indeed with larger windows, the error score goes down, but this seems to be an artefact. In any case, increasing the window size further weakens the justification for $P_k$. \n",
    "\n",
    "**Figure 3: the effect of increasing the window size on the mean $P_k$ (N=333).**\n",
    "![](Kexperiment.png)"
   ]
  },
  {
   "cell_type": "code",
   "execution_count": 1,
   "id": "47edef23",
   "metadata": {},
   "outputs": [],
   "source": [
    "import numpy as np\n",
    "import pandas as pd\n",
    "import seaborn as sns\n",
    "import matplotlib.pyplot as plt\n",
    "import functools as ft"
   ]
  },
  {
   "cell_type": "code",
   "execution_count": 2,
   "id": "00a7b179",
   "metadata": {},
   "outputs": [
    {
     "name": "stdout",
     "output_type": "stream",
     "text": [
      "Nr of streams, documents and pages 333 31293 134460\n"
     ]
    }
   ],
   "source": [
    "goldstandard= 'all_corpora_gold_standard.json'\n",
    "f= open(goldstandard)\n",
    "truth_corpus=json.load(f)\n",
    "truth_corpus={s:truth_corpus[s] for s in truth_corpus if truth_corpus[s]!=[1]}\n",
    "#truth_corpus= {s:truth_corpus[s] for s in truth_corpus if len(truth_corpus[s])>0}\n",
    "print('Nr of streams, documents and pages',len(truth_corpus), sum(len(truth_corpus[s]) for s in truth_corpus) ,sum(sum(truth_corpus[s]) for s in truth_corpus))\n",
    "\n"
   ]
  },
  {
   "cell_type": "code",
   "execution_count": 3,
   "id": "9ba365f5",
   "metadata": {},
   "outputs": [],
   "source": [
    "# TODO VGL met https://www.nltk.org/_modules/nltk/metrics/segmentation.html\n",
    "\n",
    "\n",
    "def window_metric(t,p,k,kind='Pk', LamprierPadding=True ):\n",
    "    '''Compute Pk, WindowDiff or WinPR on a true stream t and a hypothesized stream p\n",
    "    of the form [6,2,3,8] indicating the length in pages of the  documents in the stream.'''\n",
    "    # preprocessing\n",
    "    N= sum(t)\n",
    "    def to_bit_vector(s):\n",
    "        tmp= np.concatenate( [[1]+[0]*(i-1) for i in s])\n",
    "        #tmp[0]=0  # different from us, the first page is not a boundary\n",
    "        return tmp\n",
    "    def padding(s,pads):\n",
    "        if pads.size>0:\n",
    "            return np.concatenate((pads,s,pads))\n",
    "        else: return s\n",
    "    if LamprierPadding:\n",
    "        pad = np.zeros(k-1).astype(int) if k>1 else np.array([])  # we pad k-1 0 before and after the stream\n",
    "    else:\n",
    "        pad = np.array([])\n",
    "    t,p= padding(to_bit_vector(t),pad), padding(to_bit_vector(p),pad)\n",
    "    # now choose which metric to compute\n",
    "    if kind=='Pk':\n",
    "        miss= sum( sum(t[i:i+k+1])>0 and sum(p[i:i+k+1])==0 for i in range(N+k-1))\n",
    "        false_alarm= sum( sum(t[i:i+k+1])==0 and sum(p[i:i+k+1])>0 for i in range(N+k-1) )\n",
    "        result= np.array([ false_alarm, miss, miss+false_alarm])/(N+k-1) \n",
    "    elif kind=='WindowDiff':\n",
    "        miss= sum( sum(t[i:i+k+1]) > sum(p[i:i+k+1]) for i in range(N+k-1))\n",
    "        false_alarm= sum( sum(t[i:i+k+1]) < sum(p[i:i+k+1]) for i in range(N+k-1))\n",
    "        result= np.array([ false_alarm, miss, miss+false_alarm])/(N+k-1) \n",
    "    elif kind=='WinPR':\n",
    "        TP= sum((min(sum(t[i:i+k+1]),sum(p[i:i+k+1]))) for i in range(N+k-1))\n",
    "        FP= sum((max(0, sum(p[i:i+k+1])-sum(t[i:i+k+1]))) for i in range(N+k-1))\n",
    "        FN= sum((max(0, sum(t[i:i+k+1])-sum(p[i:i+k+1]))) for i in range(N+k-1))\n",
    "        result= np.array([TP/(TP+FP), TP/(TP+FN), TP/(TP + .5*(FP+FN))]) \n",
    "    return  result\n",
    " "
   ]
  },
  {
   "cell_type": "code",
   "execution_count": 4,
   "id": "7100bfdb",
   "metadata": {},
   "outputs": [
    {
     "data": {
      "text/plain": [
       "[1, 1, 1, 1, 1, 1, 1, 1, 1, 1, 1, 1, 1, 1, 1]"
      ]
     },
     "execution_count": 4,
     "metadata": {},
     "output_type": "execute_result"
    }
   ],
   "source": [
    "def fixedpage(stream,docsize=1): \n",
    "    number_of_blocks= sum(stream)//docsize\n",
    "    rest = sum(stream) % docsize\n",
    "    if rest !=0:\n",
    "        return [docsize for _ in range(number_of_blocks)]+[rest]\n",
    "    else:\n",
    "        return [docsize for _ in range(number_of_blocks)]        \n",
    "    \n",
    "fixedpage([6,5,4])"
   ]
  },
  {
   "cell_type": "code",
   "execution_count": 5,
   "id": "9770926a",
   "metadata": {},
   "outputs": [],
   "source": [
    "from random import randint\n",
    "\n",
    "# Function to generate a list of\n",
    "# m random positive integers\n",
    "# whose sum is n\n",
    "def randomList(m, n):\n",
    "    arr = np.ones(m) \n",
    "    # To make the sum of the final list as n\n",
    "    for i in range(n-m) :\n",
    "        # Increment any random element\n",
    "        # from the array by 1\n",
    "        arr[randint(0, n) % m] += 1;\n",
    "    return arr.astype(int)\n",
    "\n",
    "randomList(4,8)\n",
    "\n",
    "def random1(t):\n",
    "        '''generates a random stream with as many docs and pages as t '''\n",
    "        raw= randomList(len(t),sum(t))\n",
    "        return [i for i in raw ]\n",
    " \n",
    "def random2(t):\n",
    "    '''generates a random stream with as   pages as t '''\n",
    "    aantal_boundaries= randint(1,max(2,sum(t)-1))\n",
    "    return [i for i in randomList(aantal_boundaries,sum(t)) ]\n",
    "\n",
    "#t=[2,3,3]\n",
    "#[random1(t) for _ in range(10)]"
   ]
  },
  {
   "cell_type": "code",
   "execution_count": 6,
   "id": "3105fee8",
   "metadata": {},
   "outputs": [
    {
     "data": {
      "text/plain": [
       "[[1, 1, 1, 1, 1, 1, 1, 1, 1],\n",
       " [9],\n",
       " [2, 2, 2, 2, 1],\n",
       " [3, 3, 3],\n",
       " [3, 3, 3],\n",
       " [2, 3, 1, 1, 1, 1]]"
      ]
     },
     "execution_count": 6,
     "metadata": {},
     "output_type": "execute_result"
    }
   ],
   "source": [
    "def degenerate_segmenter(stream,kind):\n",
    "    '''match kind:\n",
    "        case 'all':\n",
    "            return fixedpage(stream,1)\n",
    "        case 'none':\n",
    "            return fixedpage(stream,sum(stream))\n",
    "     '''\n",
    "    if kind=='all':\n",
    "        return fixedpage(stream,1)\n",
    "    elif kind=='none':\n",
    "        return fixedpage(stream,sum(stream))\n",
    "    elif kind=='median':\n",
    "        return fixedpage(stream,int(round(np.median(stream)) ))\n",
    "    elif kind=='mean':\n",
    "        return fixedpage(stream,int(round(np.mean(stream)) ))\n",
    "    elif kind=='random1':\n",
    "        return random1(stream)\n",
    "    elif kind=='random':\n",
    "        return random2(stream)\n",
    "    \n",
    "[ degenerate_segmenter([1,2,6],t) for t in ['all','none','median','mean','random1','random']]"
   ]
  },
  {
   "cell_type": "code",
   "execution_count": 10,
   "id": "7d48ea17",
   "metadata": {},
   "outputs": [],
   "source": [
    "degenerates= ['all','none','median','mean','random'] #'random1',\n",
    "\n",
    "def big_experiment(data,extra_k=0, k_func=np.mean, LamprierPadding=True, metric='Pk' ):\n",
    "    truth_corpus=data\n",
    "    #truth_corpus= {s:truth_corpus[s] for s in truth_corpus if len(truth_corpus[s])>0}\n",
    "    DFs=[]\n",
    "    for kind in degenerates:\n",
    "        D ={pdf: window_metric(truth_corpus[pdf], \n",
    "                    degenerate_segmenter(truth_corpus[pdf],kind),  # every page\n",
    "                    int(k_func(truth_corpus[pdf])//2) + extra_k,\n",
    "                    kind=metric,\n",
    "                    LamprierPadding=LamprierPadding\n",
    "                   )\n",
    "           for pdf in truth_corpus}\n",
    "        results= pd.DataFrame.from_dict(D,orient='index')\n",
    "        #results.index.name=kind\n",
    "        results.columns=[(kind,m) for m in ['P','R','F1']]\n",
    "        DFs.append(results)\n",
    "    \n",
    "    df = ft.reduce(lambda left, right: pd.merge(left, right,left_index=True,right_index=True), DFs, )\n",
    "    df.columns=pd.MultiIndex.from_tuples(df.columns)\n",
    "    return df\n",
    "\n",
    "df=big_experiment(truth_corpus)"
   ]
  },
  {
   "cell_type": "code",
   "execution_count": 17,
   "id": "15d137fa",
   "metadata": {},
   "outputs": [
    {
     "name": "stdout",
     "output_type": "stream",
     "text": [
      "|        |   mean |   std |\n",
      "|:-------|-------:|------:|\n",
      "| all    |   0.49 |  0.15 |\n",
      "| none   |   0.42 |  0.2  |\n",
      "| median |   0.42 |  0.21 |\n",
      "| mean   |   0.39 |  0.17 |\n",
      "| random |   0.48 |  0.16 |\n"
     ]
    }
   ],
   "source": [
    "tabel= df.loc[:, (degenerates, ['F1'])]\n",
    "tabel.columns= tabel.columns.droplevel(1)\n",
    "print(tabel.describe().T[['mean','std']].round(2).to_markdown())"
   ]
  },
  {
   "cell_type": "code",
   "execution_count": null,
   "id": "4f549818",
   "metadata": {},
   "outputs": [],
   "source": [
    "dfPK=df.loc[:, (degenerates, ['F1'])]\n",
    "dfPK.columns=degenerates\n",
    "#plt.figure(figsize = (15,8))\n",
    "fig, ax =plt.subplots(1,2, figsize=(18,5))\n",
    "sns.kdeplot(data=dfPK,ax=ax[0],clip=(0,1));\n",
    "sns.boxplot(data=dfPK,ax=ax[1]);\n",
    "print('N=',df.shape[0])\n",
    "plt.savefig('Pk_experiment.png')\n",
    "dfPK.mean()"
   ]
  },
  {
   "cell_type": "code",
   "execution_count": null,
   "id": "0c1ec574",
   "metadata": {},
   "outputs": [],
   "source": [
    "dfPK=df.loc[:, (degenerates, ['F1'])]\n",
    "dfPK.columns=degenerates\n",
    "#plt.figure(figsize = (15,8))\n",
    "#fig, ax =plt.subplots(1,2, figsize=(18,5))\n",
    "sns.kdeplot(data=dfPK, clip=(0,1));\n",
    "#sns.boxplot(data=dfPK,ax=ax[1]);\n",
    "print('N=',df.shape[0])\n",
    "plt.savefig('Pk_experiment.png')\n",
    "Pkmean= dfPK.mean()\n",
    "Pkmean"
   ]
  },
  {
   "cell_type": "markdown",
   "id": "62ba9e07",
   "metadata": {},
   "source": [
    "# What about WindowDiff and WinPR\n",
    "\n",
    "* Note that Pk and WindowDiff are error measures (so 0 is good, 1 is worst)\n",
    "* but WinPR is the other way around and F=1 is best and 0 = worst."
   ]
  },
  {
   "cell_type": "code",
   "execution_count": null,
   "id": "29a1b804",
   "metadata": {},
   "outputs": [],
   "source": [
    "df=big_experiment(truth_corpus, metric='WindowDiff')\n",
    "dfPK=df.loc[:, (degenerates, ['F1'])]\n",
    "dfPK.columns=degenerates\n",
    "#plt.figure(figsize = (15,8))\n",
    "fig, ax =plt.subplots(1,2, figsize=(18,5))\n",
    "sns.kdeplot(data=dfPK,ax=ax[0],clip=(0,1));\n",
    "sns.boxplot(data=dfPK,ax=ax[1]);\n",
    "print('WindowDiff','N=',df.shape[0])\n",
    "dfPK.mean()"
   ]
  },
  {
   "cell_type": "code",
   "execution_count": null,
   "id": "c95c1d77",
   "metadata": {},
   "outputs": [],
   "source": [
    "m='WinPR'\n",
    "df=big_experiment(truth_corpus, metric=m)\n",
    "dfPK=df.loc[:, (degenerates, ['F1'])]\n",
    "dfPK.columns=degenerates\n",
    "\n",
    "\n",
    "#plt.figure(figsize = (15,8))\n",
    "fig, ax =plt.subplots(1,2, figsize=(18,5))\n",
    "sns.kdeplot(data=dfPK,ax=ax[0],clip=(0,1));\n",
    "sns.boxplot(data=dfPK,ax=ax[1]);\n",
    "print(m,'N=',df.shape[0])\n",
    "dfPK.mean()"
   ]
  },
  {
   "cell_type": "code",
   "execution_count": null,
   "id": "d5e4cda8",
   "metadata": {},
   "outputs": [],
   "source": [
    "m='WinPR'\n",
    "dfPR=big_experiment(truth_corpus, metric=m)\n",
    "dfPK1=dfPR.loc[:, (degenerates, ['F1'])]\n",
    "dfPK1.columns=degenerates\n",
    "\n",
    "\n",
    "\n",
    "dfWD=big_experiment(truth_corpus, metric='WindowDiff')\n",
    "dfPK2=dfWD.loc[:, (degenerates, ['F1'])]\n",
    "dfPK2.columns=degenerates"
   ]
  },
  {
   "cell_type": "code",
   "execution_count": null,
   "id": "a183423f",
   "metadata": {},
   "outputs": [],
   "source": [
    "plt.figure(figsize = (15,8));\n",
    "fig, ax =plt.subplots(1,2, figsize=(18,5));\n",
    "winPR=sns.kdeplot(data=dfPK1, ax=ax[0], clip=(0,1));\n",
    "winDiff=sns.kdeplot(data=dfPK2, ax=ax[1], clip=(0,1));\n",
    "winPR.set(xlabel='WinPR')\n",
    "winDiff.set(xlabel='WindowDiff')\n",
    "#sns.boxplot(data=dfPK,ax=ax[1]);\n",
    "print('N=',df.shape[0])\n",
    "plt.savefig('WindowDiffAndWinPR_experiment.png')\n",
    "MM= pd.DataFrame(Pkmean).join(pd.DataFrame(dfPK1.mean()).join(pd.DataFrame(dfPK2.mean()),rsuffix='r'),rsuffix='l').round(2)\n",
    "MM.columns=['Pk','WinPR','WindowDiff']\n",
    "print(MM.to_markdown())"
   ]
  },
  {
   "cell_type": "markdown",
   "id": "561cc002",
   "metadata": {},
   "source": [
    "# Influence of k\n",
    "\n",
    "* Doclengths are lognormally distributed\n",
    "\n",
    "\n",
    "### outcome\n",
    "\n",
    "* Hardly any influence, half the mean doclength of a stream is for all except \"no boundaries\"  the best."
   ]
  },
  {
   "cell_type": "code",
   "execution_count": 19,
   "id": "1faeb400",
   "metadata": {},
   "outputs": [
    {
     "data": {
      "text/plain": [
       "count    333.00\n",
       "mean       8.81\n",
       "std       17.31\n",
       "min        1.00\n",
       "25%        2.52\n",
       "50%        3.78\n",
       "75%        7.45\n",
       "max      151.00\n",
       "dtype: float64"
      ]
     },
     "execution_count": 19,
     "metadata": {},
     "output_type": "execute_result"
    },
    {
     "data": {
      "image/png": "[encoded data removed]",
      "text/plain": [
       "<Figure size 360x360 with 1 Axes>"
      ]
     },
     "metadata": {
      "needs_background": "light"
     },
     "output_type": "display_data"
    }
   ],
   "source": [
    "D=truth_corpus\n",
    "MeanDoclengths= pd.Series([np.mean(D[s]) for s in D])\n",
    "sns.displot(MeanDoclengths, kde=True,log_scale=(True,False));\n",
    "MeanDoclengths.describe().round(2)"
   ]
  },
  {
   "cell_type": "code",
   "execution_count": 20,
   "id": "1e388405",
   "metadata": {},
   "outputs": [
    {
     "data": {
      "text/plain": [
       "[0, 1, 2, 3, 4, 5, 6, 7, 8, 9, 10]"
      ]
     },
     "execution_count": 20,
     "metadata": {},
     "output_type": "execute_result"
    }
   ],
   "source": [
    "extrak=  list(range(0,11)) #list(range(-10,0))+\n",
    "#extrak=range(0,11)\n",
    "extrak"
   ]
  },
  {
   "cell_type": "code",
   "execution_count": 21,
   "id": "87e70fa2",
   "metadata": {},
   "outputs": [
    {
     "name": "stdout",
     "output_type": "stream",
     "text": [
      "CPU times: user 1min 49s, sys: 577 ms, total: 1min 49s\n",
      "Wall time: 1min 50s\n"
     ]
    }
   ],
   "source": [
    "%%time\n",
    "frames={k:big_experiment(truth_corpus,extra_k=k) for k in extrak}"
   ]
  },
  {
   "cell_type": "code",
   "execution_count": 27,
   "id": "e16690c6",
   "metadata": {},
   "outputs": [
    {
     "data": {
      "text/html": [
       "<div>\n",
       "<style scoped>\n",
       "    .dataframe tbody tr th:only-of-type {\n",
       "        vertical-align: middle;\n",
       "    }\n",
       "\n",
       "    .dataframe tbody tr th {\n",
       "        vertical-align: top;\n",
       "    }\n",
       "\n",
       "    .dataframe thead th {\n",
       "        text-align: right;\n",
       "    }\n",
       "</style>\n",
       "<table border=\"1\" class=\"dataframe\">\n",
       "  <thead>\n",
       "    <tr style=\"text-align: right;\">\n",
       "      <th></th>\n",
       "      <th>all</th>\n",
       "      <th>none</th>\n",
       "      <th>median</th>\n",
       "      <th>mean</th>\n",
       "      <th>random</th>\n",
       "    </tr>\n",
       "  </thead>\n",
       "  <tbody>\n",
       "    <tr>\n",
       "      <th>0</th>\n",
       "      <td>0.494341</td>\n",
       "      <td>0.421143</td>\n",
       "      <td>0.423751</td>\n",
       "      <td>0.392598</td>\n",
       "      <td>0.498868</td>\n",
       "    </tr>\n",
       "    <tr>\n",
       "      <th>1</th>\n",
       "      <td>0.391485</td>\n",
       "      <td>0.507430</td>\n",
       "      <td>0.333966</td>\n",
       "      <td>0.311910</td>\n",
       "      <td>0.415707</td>\n",
       "    </tr>\n",
       "    <tr>\n",
       "      <th>2</th>\n",
       "      <td>0.335803</td>\n",
       "      <td>0.538650</td>\n",
       "      <td>0.284344</td>\n",
       "      <td>0.268568</td>\n",
       "      <td>0.359069</td>\n",
       "    </tr>\n",
       "    <tr>\n",
       "      <th>3</th>\n",
       "      <td>0.297993</td>\n",
       "      <td>0.556683</td>\n",
       "      <td>0.251222</td>\n",
       "      <td>0.240077</td>\n",
       "      <td>0.323207</td>\n",
       "    </tr>\n",
       "    <tr>\n",
       "      <th>4</th>\n",
       "      <td>0.270837</td>\n",
       "      <td>0.567020</td>\n",
       "      <td>0.227469</td>\n",
       "      <td>0.218804</td>\n",
       "      <td>0.291332</td>\n",
       "    </tr>\n",
       "    <tr>\n",
       "      <th>5</th>\n",
       "      <td>0.250071</td>\n",
       "      <td>0.573057</td>\n",
       "      <td>0.209197</td>\n",
       "      <td>0.202159</td>\n",
       "      <td>0.280322</td>\n",
       "    </tr>\n",
       "    <tr>\n",
       "      <th>6</th>\n",
       "      <td>0.232829</td>\n",
       "      <td>0.577148</td>\n",
       "      <td>0.194245</td>\n",
       "      <td>0.188312</td>\n",
       "      <td>0.259109</td>\n",
       "    </tr>\n",
       "    <tr>\n",
       "      <th>7</th>\n",
       "      <td>0.218514</td>\n",
       "      <td>0.579551</td>\n",
       "      <td>0.182020</td>\n",
       "      <td>0.176765</td>\n",
       "      <td>0.237036</td>\n",
       "    </tr>\n",
       "    <tr>\n",
       "      <th>8</th>\n",
       "      <td>0.206390</td>\n",
       "      <td>0.580768</td>\n",
       "      <td>0.171707</td>\n",
       "      <td>0.166911</td>\n",
       "      <td>0.216491</td>\n",
       "    </tr>\n",
       "    <tr>\n",
       "      <th>9</th>\n",
       "      <td>0.196140</td>\n",
       "      <td>0.580944</td>\n",
       "      <td>0.162999</td>\n",
       "      <td>0.158573</td>\n",
       "      <td>0.217961</td>\n",
       "    </tr>\n",
       "    <tr>\n",
       "      <th>10</th>\n",
       "      <td>0.187155</td>\n",
       "      <td>0.580561</td>\n",
       "      <td>0.155399</td>\n",
       "      <td>0.151292</td>\n",
       "      <td>0.216350</td>\n",
       "    </tr>\n",
       "  </tbody>\n",
       "</table>\n",
       "</div>"
      ],
      "text/plain": [
       "         all      none    median      mean    random\n",
       "0   0.494341  0.421143  0.423751  0.392598  0.498868\n",
       "1   0.391485  0.507430  0.333966  0.311910  0.415707\n",
       "2   0.335803  0.538650  0.284344  0.268568  0.359069\n",
       "3   0.297993  0.556683  0.251222  0.240077  0.323207\n",
       "4   0.270837  0.567020  0.227469  0.218804  0.291332\n",
       "5   0.250071  0.573057  0.209197  0.202159  0.280322\n",
       "6   0.232829  0.577148  0.194245  0.188312  0.259109\n",
       "7   0.218514  0.579551  0.182020  0.176765  0.237036\n",
       "8   0.206390  0.580768  0.171707  0.166911  0.216491\n",
       "9   0.196140  0.580944  0.162999  0.158573  0.217961\n",
       "10  0.187155  0.580561  0.155399  0.151292  0.216350"
      ]
     },
     "execution_count": 27,
     "metadata": {},
     "output_type": "execute_result"
    }
   ],
   "source": [
    "frames[0].loc[:, (degenerates, ['F1'])]\n",
    "k_experiment= pd.DataFrame({i:frames[i].loc[:, (degenerates, ['F1'])].mean() for i in frames}).T\n",
    "k_experiment.columns=k_experiment.columns.droplevel(1)\n",
    "k_experiment"
   ]
  },
  {
   "cell_type": "code",
   "execution_count": 28,
   "id": "0d188ccf",
   "metadata": {},
   "outputs": [
    {
     "data": {
      "text/plain": [
       "all       0\n",
       "none      9\n",
       "median    0\n",
       "mean      0\n",
       "random    0\n",
       "dtype: int64"
      ]
     },
     "execution_count": 28,
     "metadata": {},
     "output_type": "execute_result"
    },
    {
     "data": {
      "image/png": "[encoded data removed]",
      "text/plain": [
       "<Figure size 432x288 with 1 Axes>"
      ]
     },
     "metadata": {
      "needs_background": "light"
     },
     "output_type": "display_data"
    }
   ],
   "source": [
    "fig=k_experiment.plot()\n",
    "fig.set(xlabel='Extra window-size on top of half the mean document length', ylabel='mean Pk')\n",
    "plt.savefig('Kexperiment.png')\n",
    "k_experiment.idxmax()\n"
   ]
  },
  {
   "cell_type": "markdown",
   "id": "1d1d9319",
   "metadata": {},
   "source": [
    "# padding experiment\n",
    "\n",
    "1. For the all, none, mean and median degenerates, padding made no difference in scores for not a single stream. \n",
    "2. For the 2 random degenerates, the differences in mean scores are very small, "
   ]
  },
  {
   "cell_type": "code",
   "execution_count": null,
   "id": "b23cfd31",
   "metadata": {},
   "outputs": [],
   "source": [
    "df=big_experiment(truth_corpus)\n",
    "df_nopadding= big_experiment(truth_corpus,LamprierPadding=False)\n",
    "(df-df_nopadding).sum()"
   ]
  },
  {
   "cell_type": "code",
   "execution_count": null,
   "id": "8f0f16b1",
   "metadata": {},
   "outputs": [],
   "source": [
    "df.mean()-df_nopadding.mean()"
   ]
  },
  {
   "cell_type": "markdown",
   "id": "cf92374d",
   "metadata": {},
   "source": [
    "# P, R, F1 based measures\n",
    "\n",
    "* We do the same but now for other measures"
   ]
  },
  {
   "cell_type": "code",
   "execution_count": null,
   "id": "450760d9",
   "metadata": {},
   "outputs": [],
   "source": [
    "from  metricutils import *\n",
    "\n",
    "t= list(truth_corpus.items())[0][1]\n",
    "def to_bit_vector(s):\n",
    "        tmp= np.concatenate( [[1]+[0]*(i-1) for i in s])\n",
    "        #tmp[0]=0  # different from us, the first page is not a boundary\n",
    "        return tmp\n",
    " \n",
    "\n",
    "bcubed(to_bit_vector(t),to_bit_vector(degenerate_segmenter(t,kind='none'))).mean()[1:]\n",
    "\n"
   ]
  },
  {
   "cell_type": "code",
   "execution_count": null,
   "id": "42888139",
   "metadata": {},
   "outputs": [],
   "source": [
    "def big_experiment(data,extra_k=0, k_func=np.mean, LamprierPadding=True, metric='Pk' ):\n",
    "    truth_corpus=data\n",
    "    #truth_corpus= {s:truth_corpus[s] for s in truth_corpus if len(truth_corpus[s])>0}\n",
    "    DFs=[]\n",
    "    for kind in degenerates:\n",
    "        D ={pdf: window_metric(truth_corpus[pdf], \n",
    "                    degenerate_segmenter(truth_corpus[pdf],kind),  # every page\n",
    "                    int(k_func(truth_corpus[pdf])//2) + extra_k,\n",
    "                    kind=metric,\n",
    "                    LamprierPadding=LamprierPadding\n",
    "                   )\n",
    "           for pdf in truth_corpus}\n",
    "        results= pd.DataFrame.from_dict(D,orient='index')\n",
    "        #results.index.name=kind\n",
    "        results.columns=[(kind,m) for m in ['P','R','F1']]\n",
    "        DFs.append(results)\n",
    "    \n",
    "    df = ft.reduce(lambda left, right: pd.merge(left, right,left_index=True,right_index=True), DFs, )\n",
    "    df.columns=pd.MultiIndex.from_tuples(df.columns)\n",
    "    return df\n",
    "\n",
    "df=big_experiment(truth_corpus)"
   ]
  },
  {
   "cell_type": "markdown",
   "id": "4e864e5f",
   "metadata": {},
   "source": [
    "# Old stuff"
   ]
  },
  {
   "cell_type": "code",
   "execution_count": null,
   "id": "67ef66d1",
   "metadata": {},
   "outputs": [],
   "source": [
    "D={0:[6,5],1:[2,3]}\n",
    "\n",
    "def multiply(D,k):\n",
    "    DD=dict()\n",
    "    for d in D:\n",
    "        for i in range(k):\n",
    "            DD[(d,i)]= D[d]\n",
    "    return DD\n",
    "\n",
    "multiply(D,2)"
   ]
  },
  {
   "cell_type": "code",
   "execution_count": null,
   "id": "21fcccda",
   "metadata": {},
   "outputs": [],
   "source": [
    "%%time\n",
    "def experiment(data,kind='Random1',multiple=100):\n",
    "    f= open(data)\n",
    "    truth_corpus=json.load(f)\n",
    "    truth_corpus=multiply(truth_corpus,multiple)\n",
    "    D ={pdf: Pk(truth_corpus[pdf], \n",
    "                 random1(truth_corpus[pdf]),\n",
    "                int(np.mean(truth_corpus[pdf])//2))\n",
    "       for pdf in truth_corpus}\n",
    "    results= pd.DataFrame.from_dict(D,orient='index')\n",
    "    results.index.name=kind\n",
    "    results.columns=['FN','FP','Pk']\n",
    "    return results\n",
    "    #print(results.shape)\n",
    "    #print(results.head())\n",
    "    \n",
    "    \n",
    "r= experiment('Doclengths_of_the_individual_docs.json')\n",
    "print(r.describe())\n",
    "fig, ax =plt.subplots(1,2)\n",
    "plt.title='No boundaries'\n",
    "sns.boxplot(data=r, ax=ax[0]);\n",
    "sns.histplot(data=r.Pk, kde=True, ax=ax[1]);\n",
    "#fig.show()"
   ]
  },
  {
   "cell_type": "code",
   "execution_count": null,
   "id": "5eaf1eed",
   "metadata": {},
   "outputs": [],
   "source": [
    "%%time\n",
    "def experiment(data,kind='Random2',multiple=100):\n",
    "    f= open(data)\n",
    "    truth_corpus=json.load(f)\n",
    "    truth_corpus=multiply(truth_corpus,multiple)\n",
    "    D ={pdf: Pk(truth_corpus[pdf], \n",
    "                 random2(truth_corpus[pdf]),\n",
    "                int(np.mean(truth_corpus[pdf])//2))\n",
    "       for pdf in truth_corpus}\n",
    "    results= pd.DataFrame.from_dict(D,orient='index')\n",
    "    results.index.name=kind\n",
    "    results.columns=['FN','FP','Pk']\n",
    "    return results\n",
    "    #print(results.shape)\n",
    "    #print(results.head())\n",
    "    \n",
    "    \n",
    "r= experiment('Doclengths_of_the_individual_docs.json')\n",
    "print(r.describe())\n",
    "fig, ax =plt.subplots(1,2)\n",
    "plt.title='No boundaries'\n",
    "sns.boxplot(data=r, ax=ax[0]);\n",
    "sns.histplot(data=r.Pk, kde=True, ax=ax[1]);\n",
    "#fig.show()"
   ]
  }
 ],
 "metadata": {
  "kernelspec": {
   "display_name": "Python 3 (ipykernel)",
   "language": "python",
   "name": "python3"
  },
  "language_info": {
   "codemirror_mode": {
    "name": "ipython",
    "version": 3
   },
   "file_extension": ".py",
   "mimetype": "text/x-python",
   "name": "python",
   "nbconvert_exporter": "python",
   "pygments_lexer": "ipython3",
   "version": "3.9.7"
  },
  "toc": {
   "nav_menu": {},
   "number_sections": false,
   "sideBar": true,
   "skip_h1_title": false,
   "title_cell": "Table of Contents",
   "title_sidebar": "Contents",
   "toc_cell": false,
   "toc_position": {},
   "toc_section_display": true,
   "toc_window_display": false
  }
 },
 "nbformat": 4,
 "nbformat_minor": 5
}
