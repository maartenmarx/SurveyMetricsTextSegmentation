{
 "cells": [
  {
   "cell_type": "markdown",
   "id": "1e32c8b1",
   "metadata": {},
   "source": [
    "\\section{Overlapping clusterings}\n",
    "\n",
    "In \\ref{amigo}, the BCUBED measure is extended to \\emph{overlapping clusterings}, by \\todo{leg in 1-2 zinnen uit hoe ze dat aanpassen}.\n",
    "This metric has the undesirable property that a hypothesized clustering which s not equal to the true clustering ca still receive the perfect score of $1$. This is repaired in \\ref{die 2 mexicanen} by \\todo{leg ook weer even uit}.\n",
    "\n",
    "\\todo{probeer ook nu uitte leggen waarom deze \"oplossing\" toch wat mal is vanuit een confusion table gedachte}\n",
    "\n",
    "Here we show how the overlap weighted P and R measures can naturally be applied to a setting with overlapping clusterings.\n",
    "\n",
    "\\subsection{Overlapping clusters, when can they occur?}\n",
    "\n",
    "There are two situations in which overlapping clusterings occur naturally. \n",
    "The first is also mentioned as a motivation in \\ref{Amigo} and resembles a multi-label classification problem, familiar from the Reuters dataset or the categories in Wikipedia.\n",
    "In this situation objects have several \\emph{aspects} and we like to cluster them for each aspect seperately. For each aspect, clusters do nót overlap. \n",
    "\n",
    "The second situation is best described as clusters with fuzzy borders. An example of a fuzzy border in text-segmentation is a \"bridge-sentence\" between two topical sections which could be added to both segments.\n",
    "The k-clique percolation method for graph clustering \\cite{palla nature} is one of the few clustering algorithms which allows overlapping clusters. From them we borrow the concept of the \\emph{core} of a cluster. Cores never overlap. \n",
    "\n",
    "We will now show that both types can simply be captured using small adaptations of the overlap weighted precision and recall notions.\n",
    "\n",
    "\\subsection{Multi aspect clustering}\n",
    "\n",
    "Given a set of objects $E$ and a natural number $d$, a \\emph{$d$-aspect clustering $T^d$ of $E$} is a sequence $\\langle T_1,T_2,\\ldots,T_d\\rangle$ of partial clusterings.\n",
    "The task of $d$-aspect clustering of $E$ is to find $d$ many partial clusterings $\\langle H_1,\\ldots,H_d\\rangle$.\n",
    "Note that the number of aspects is given. But the prediction just yields $d$ partial clusterings \\emph{without mapping these to the $d$ true clusterings}.\n",
    "The metric which determines the quality of the preicted multi-aspect clustering equals the highest possible score obtained when the hypothesized aspects are matched optimally to the true aspects. It is computed as follows:\n",
    "\\begin{enumerate}\n",
    "\\item for each $1\\leq i,j\\leq d$, compute $PQ(h_i,t_j)$; \\todo{probably update witha macro}\n",
    "\\item find the alingnment $f:d\\longrightarrow  d$ which maximizes the mean $PQ$. That mean $PQ$ is then the value of the metric.\n",
    "\\end{enumerate}\n",
    "Note  in the first step we must compute $d^2$ many $PQ$ values, and in the second we need to find the maximum within $d$ factorial mappings. As $d$ is normally relatively small, this is in practice no problem (for 10 aspects this took 8 seconds on a MacBook Pro). \n",
    "Here we choose to optimize the mean PQ over all aspects, but other criteria, like the mean PQ of the top $k$ scoring aspects are possible as well. \n",
    "\n",
    "\\todo{Experiment met Reuters of zo, of nog mooier een text-segmentatie dataset die we op meerdere manieren segmenteren: bijvoorbeeld paginas versus topics, maar dat is ietwat mal}\n",
    "\n",
    "\\subsection{Fuzzy border clustering}\n",
    "\n",
    "With fuzzy border clustering, both $T$ and $H$ are subsets of the powerset of $E$, without the non-overlap constraint. For $t_i\\in T$ define the \\emph{core} of $t_i$, denoted by $\\hat{t_i}$, as $t_i\\setminus \\bigcup_{j\\neq i} t_j$, and similarly for $h_i\\in H$. Clearly cores do not overlap. We then define the pverlap weighted  F1 score as follows:\n",
    "\n",
    "\\begin{enumerate}\n",
    "\\item compute the set of TPs using the cores;\n",
    "\\item compute the unweighted $F1$ \\todo{thus RQ} using this set of $TP$s;\n",
    "\\item compute the weight $SQ$ as the mean $IoU$ of these $TP$s but then computed over teh original segments, that is\n",
    "%\n",
    "\\[ SQ(TP) = \\frac{\\Sigma_{(\\hat{h},\\hat{t})\\in TP} IoU(h,t)}{\\vert TP\\vert}. \\]\n",
    "\\item The final score then is the unweighted $F1$ multiplied by the weight $SQ(TP)$, as before.\n",
    "\\end{enumerate}\n",
    "\n",
    "\\todo{Wat analyses hierover, bijvoorbeeld dat cheaten niet werkt, dus als je je predicties heel ruim gaat nemen, dan heb je haast geen TPs, en score je slecht.}\n",
    "\\todo{Je zou een true clustering kunnen nemen, en een hypothesized en die hypothesized clusters met $k$ procent vergroten, en dan eens kijken wat er gebruert met de scores, en een ander expriment waarbij de true ook fuzz is, en dan $k$ laten toenemen.}\n"
   ]
  },
  {
   "cell_type": "markdown",
   "id": "02c55430",
   "metadata": {},
   "source": [
    "# clusteren met meerdere aspecten\n",
    "\n",
    "We doen een soort \"multi-class labelene\" maar dan met clusteren.\n",
    "Het aantal aspecten ligt vast en is gegeven, $D$. \n",
    "\n",
    "Taak is dan om $D$ clusteringen te produceren. Die wordne vergeleken met $D$ true clusteringen.\n",
    "\n",
    "Als volgt:\n",
    "\n",
    "* $H_D$ is nu een sequence van $H$ clusteringen/segmentaties (partieel of niet)\n",
    "* bereken voor elke $h_i\\in H_D$, $t_j\\in T_D$, de $PQ(h_i,t_j)$. Zet die in een $D\\times D$ matrix, en zoek nu uitputtend (dat zijn $D!$ veel mogelijkheden, $D=11$ is dat 40 miljoen), de aspect-aspect matching die de hoogste mean PQ oplevert. Dat is dan de behaalde score.\n",
    "\n",
    "Dus de behaalde score is de maximaal haalbare score, als de matching zo goed mogelijk gedaan wordt.\n",
    "\n",
    "\n",
    "## complexiteit\n",
    "\n",
    "* Lijkt erg hoog, maar in de praktijk valt de zoektocht heel erg mee (bij 10 dimensies 8 seconden op mijn mac)"
   ]
  },
  {
   "cell_type": "code",
   "execution_count": 1,
   "id": "6a95c49c",
   "metadata": {},
   "outputs": [],
   "source": [
    "import numpy as np\n",
    "from itertools import permutations \n",
    "import pandas as pd\n",
    "import seaborn as sns\n",
    " "
   ]
  },
  {
   "cell_type": "code",
   "execution_count": 2,
   "id": "488f03d0",
   "metadata": {},
   "outputs": [],
   "source": [
    "dims=10\n",
    "D=np.random.random((dims,dims))\n",
    "\n",
    "list(permutations(range(3)))\n",
    "\n",
    "def argmax(dims,D):\n",
    "    grootste=0\n",
    "    argmax= range(dims)\n",
    "    \n",
    "    all_possibilities= permutations(range(dims))\n",
    "    for p in all_possibilities:\n",
    "        tmp= sum(D[i,j] for (i,j) in enumerate(p))\n",
    "        #print(tmp,p)\n",
    "        if tmp> grootste:\n",
    "            grootste=tmp\n",
    "            argmax=p\n",
    "    return grootste/dims,argmax\n",
    "\n"
   ]
  },
  {
   "cell_type": "code",
   "execution_count": 3,
   "id": "369889b9",
   "metadata": {},
   "outputs": [
    {
     "name": "stdout",
     "output_type": "stream",
     "text": [
      "CPU times: user 6.99 s, sys: 42.2 ms, total: 7.03 s\n",
      "Wall time: 7.03 s\n"
     ]
    },
    {
     "data": {
      "text/plain": [
       "(0.8820384915660423, (5, 0, 3, 7, 4, 1, 8, 9, 6, 2))"
      ]
     },
     "execution_count": 3,
     "metadata": {},
     "output_type": "execute_result"
    }
   ],
   "source": [
    "%%time\n",
    "dims=10\n",
    "D=np.random.random((dims,dims))\n",
    "argmax(dims,D)"
   ]
  },
  {
   "cell_type": "code",
   "execution_count": 4,
   "id": "c75a5933",
   "metadata": {},
   "outputs": [
    {
     "data": {
      "text/plain": [
       "39916800"
      ]
     },
     "execution_count": 4,
     "metadata": {},
     "output_type": "execute_result"
    }
   ],
   "source": [
    "np.math.factorial(11)"
   ]
  },
  {
   "cell_type": "code",
   "execution_count": 5,
   "id": "7412916f",
   "metadata": {},
   "outputs": [],
   "source": [
    "def argmax_dist(dims,D):\n",
    "    grootste=0\n",
    "    argmax= range(dims)\n",
    "    L=[]\n",
    "    all_possibilities= permutations(range(dims))\n",
    "    for p in all_possibilities:\n",
    "        tmp= sum(D[i,j] for (i,j) in enumerate(p))\n",
    "        L.append(tmp/dims)\n",
    "        #print(tmp,p)\n",
    "        if tmp> grootste:\n",
    "            grootste=tmp\n",
    "            argmax=p\n",
    "    return L,argmax"
   ]
  },
  {
   "cell_type": "code",
   "execution_count": 6,
   "id": "54c8baba",
   "metadata": {},
   "outputs": [
    {
     "name": "stdout",
     "output_type": "stream",
     "text": [
      "CPU times: user 444 ms, sys: 1.1 s, total: 1.54 s\n",
      "Wall time: 271 ms\n"
     ]
    },
    {
     "data": {
      "text/plain": [
       "count    40320.000000\n",
       "mean         0.456645\n",
       "std          0.102700\n",
       "min          0.111124\n",
       "25%          0.385727\n",
       "50%          0.454806\n",
       "75%          0.525945\n",
       "max          0.875595\n",
       "dtype: float64"
      ]
     },
     "execution_count": 6,
     "metadata": {},
     "output_type": "execute_result"
    },
    {
     "data": {
      "image/png": "[encoded data removed]",
      "text/plain": [
       "<Figure size 360x360 with 1 Axes>"
      ]
     },
     "metadata": {
      "needs_background": "light"
     },
     "output_type": "display_data"
    }
   ],
   "source": [
    "%%time\n",
    "dims=8\n",
    "D=np.random.random((dims,dims))\n",
    "L,a=argmax_dist(dims,D)\n",
    "\n",
    "sns.displot(L, kde=True);\n",
    "LL=pd.Series(L)\n",
    "LL.describe()"
   ]
  },
  {
   "cell_type": "markdown",
   "id": "932aee86",
   "metadata": {},
   "source": [
    "# clusteren met fuzzy borders\n",
    "\n",
    "* bereken de partiele isomorfism/matching met de **cores** van alle (overlappende) blokken\n",
    "* Gegeven $H$, de core van elke $h_i\\in H$ is $h_i\\setminus \\bigcup_{j\\neq i} h_j$, en net zo voor $T$.\n",
    "* De RQ berekenen we dan op de cores (want daarmee bepalen we de TPs)\n",
    "* Maar de SQ op de hele oppervlakte van de TPs, dus inclusief de overlappende borders.\n",
    "\n",
    "### Werkt dat?\n",
    "\n",
    "* Als je heel grote blokken (met dus veel overlap) gaat maken, krijg je maar weinig TPs, en dus een lage RQ\n",
    "* "
   ]
  },
  {
   "cell_type": "code",
   "execution_count": null,
   "id": "5a4dfad3",
   "metadata": {},
   "outputs": [],
   "source": []
  }
 ],
 "metadata": {
  "kernelspec": {
   "display_name": "Python 3 (ipykernel)",
   "language": "python",
   "name": "python3"
  },
  "language_info": {
   "codemirror_mode": {
    "name": "ipython",
    "version": 3
   },
   "file_extension": ".py",
   "mimetype": "text/x-python",
   "name": "python",
   "nbconvert_exporter": "python",
   "pygments_lexer": "ipython3",
   "version": "3.9.7"
  },
  "toc": {
   "nav_menu": {},
   "number_sections": false,
   "sideBar": true,
   "skip_h1_title": false,
   "title_cell": "Table of Contents",
   "title_sidebar": "Contents",
   "toc_cell": false,
   "toc_position": {},
   "toc_section_display": true,
   "toc_window_display": false
  }
 },
 "nbformat": 4,
 "nbformat_minor": 5
}
